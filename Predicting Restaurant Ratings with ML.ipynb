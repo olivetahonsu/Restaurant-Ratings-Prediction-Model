{
 "cells": [
  {
   "cell_type": "markdown",
   "id": "315704ae-aca0-46fc-be9e-b57cdb2b11b1",
   "metadata": {},
   "source": [
    "# Objective: Develop a machine learning model to estimate restaurant aggregate ratings using various features"
   ]
  },
  {
   "cell_type": "markdown",
   "id": "17ac098a-465a-4adf-9701-f1909615f69c",
   "metadata": {},
   "source": [
    "### 1.0 Data Preparation"
   ]
  },
  {
   "cell_type": "markdown",
   "id": "bab0ca85-d635-4165-a310-c71a3ef6f7aa",
   "metadata": {},
   "source": [
    "- Address any missing or incomplete values.\n",
    "- Convert categorical variables into numerical representations.\n",
    "- Divide the dataset into training and testing subsets"
   ]
  },
  {
   "cell_type": "code",
   "execution_count": 21,
   "id": "76dd7621-ab54-4419-a73b-4021e73a1071",
   "metadata": {},
   "outputs": [],
   "source": [
    "# Import necessary libraries\n",
    "\n",
    "import pandas as pd\n",
    "from sklearn.model_selection import train_test_split\n",
    "from sklearn.tree import DecisionTreeRegressor\n",
    "from sklearn.metrics import mean_absolute_error, r2_score\n",
    "import mlflow\n",
    "import mlflow.sklearn\n",
    "\n",
    "import warnings\n",
    "warnings.filterwarnings(\"ignore\")"
   ]
  },
  {
   "cell_type": "markdown",
   "id": "d0e8ead9-7250-410b-a202-0b5d5721fdd6",
   "metadata": {},
   "source": [
    "#### 1.1 Load and Explore the data"
   ]
  },
  {
   "cell_type": "code",
   "execution_count": 7,
   "id": "5bb31c10-bfaf-4a73-8454-2fd12f5b7bce",
   "metadata": {},
   "outputs": [],
   "source": [
    "# Load dataset\n",
    "df = pd.read_csv(\"Dataset.csv\")"
   ]
  },
  {
   "cell_type": "code",
   "execution_count": 8,
   "id": "b98d2bb5-17bf-4801-be89-cca0b8403a7b",
   "metadata": {},
   "outputs": [
    {
     "data": {
      "text/html": [
       "<div>\n",
       "<style scoped>\n",
       "    .dataframe tbody tr th:only-of-type {\n",
       "        vertical-align: middle;\n",
       "    }\n",
       "\n",
       "    .dataframe tbody tr th {\n",
       "        vertical-align: top;\n",
       "    }\n",
       "\n",
       "    .dataframe thead th {\n",
       "        text-align: right;\n",
       "    }\n",
       "</style>\n",
       "<table border=\"1\" class=\"dataframe\">\n",
       "  <thead>\n",
       "    <tr style=\"text-align: right;\">\n",
       "      <th></th>\n",
       "      <th>Restaurant ID</th>\n",
       "      <th>Restaurant Name</th>\n",
       "      <th>Country Code</th>\n",
       "      <th>City</th>\n",
       "      <th>Address</th>\n",
       "      <th>Locality</th>\n",
       "      <th>Locality Verbose</th>\n",
       "      <th>Longitude</th>\n",
       "      <th>Latitude</th>\n",
       "      <th>Cuisines</th>\n",
       "      <th>...</th>\n",
       "      <th>Currency</th>\n",
       "      <th>Has Table booking</th>\n",
       "      <th>Has Online delivery</th>\n",
       "      <th>Is delivering now</th>\n",
       "      <th>Switch to order menu</th>\n",
       "      <th>Price range</th>\n",
       "      <th>Aggregate rating</th>\n",
       "      <th>Rating color</th>\n",
       "      <th>Rating text</th>\n",
       "      <th>Votes</th>\n",
       "    </tr>\n",
       "  </thead>\n",
       "  <tbody>\n",
       "    <tr>\n",
       "      <th>4549</th>\n",
       "      <td>300910</td>\n",
       "      <td>Shiv Tikki Wala</td>\n",
       "      <td>1</td>\n",
       "      <td>New Delhi</td>\n",
       "      <td>Ground Floor, Pramesh Tower, Karkardooma Commu...</td>\n",
       "      <td>Karkardooma</td>\n",
       "      <td>Karkardooma, New Delhi</td>\n",
       "      <td>77.302308</td>\n",
       "      <td>28.649227</td>\n",
       "      <td>Street Food, North Indian</td>\n",
       "      <td>...</td>\n",
       "      <td>Indian Rupees(Rs.)</td>\n",
       "      <td>No</td>\n",
       "      <td>No</td>\n",
       "      <td>No</td>\n",
       "      <td>No</td>\n",
       "      <td>1</td>\n",
       "      <td>3.8</td>\n",
       "      <td>Yellow</td>\n",
       "      <td>Good</td>\n",
       "      <td>300</td>\n",
       "    </tr>\n",
       "    <tr>\n",
       "      <th>6161</th>\n",
       "      <td>18449949</td>\n",
       "      <td>Roll Junction</td>\n",
       "      <td>1</td>\n",
       "      <td>New Delhi</td>\n",
       "      <td>F 205 &amp; 206, Near Akshardham Temple, Pandav Na...</td>\n",
       "      <td>Pandav Nagar</td>\n",
       "      <td>Pandav Nagar, New Delhi</td>\n",
       "      <td>0.000000</td>\n",
       "      <td>0.000000</td>\n",
       "      <td>North Indian</td>\n",
       "      <td>...</td>\n",
       "      <td>Indian Rupees(Rs.)</td>\n",
       "      <td>No</td>\n",
       "      <td>No</td>\n",
       "      <td>No</td>\n",
       "      <td>No</td>\n",
       "      <td>1</td>\n",
       "      <td>0.0</td>\n",
       "      <td>White</td>\n",
       "      <td>Not rated</td>\n",
       "      <td>0</td>\n",
       "    </tr>\n",
       "  </tbody>\n",
       "</table>\n",
       "<p>2 rows × 21 columns</p>\n",
       "</div>"
      ],
      "text/plain": [
       "      Restaurant ID  Restaurant Name  Country Code       City  \\\n",
       "4549         300910  Shiv Tikki Wala             1  New Delhi   \n",
       "6161       18449949    Roll Junction             1  New Delhi   \n",
       "\n",
       "                                                Address      Locality  \\\n",
       "4549  Ground Floor, Pramesh Tower, Karkardooma Commu...   Karkardooma   \n",
       "6161  F 205 & 206, Near Akshardham Temple, Pandav Na...  Pandav Nagar   \n",
       "\n",
       "             Locality Verbose  Longitude   Latitude  \\\n",
       "4549   Karkardooma, New Delhi  77.302308  28.649227   \n",
       "6161  Pandav Nagar, New Delhi   0.000000   0.000000   \n",
       "\n",
       "                       Cuisines  ...            Currency Has Table booking  \\\n",
       "4549  Street Food, North Indian  ...  Indian Rupees(Rs.)                No   \n",
       "6161               North Indian  ...  Indian Rupees(Rs.)                No   \n",
       "\n",
       "     Has Online delivery Is delivering now Switch to order menu Price range  \\\n",
       "4549                  No                No                   No           1   \n",
       "6161                  No                No                   No           1   \n",
       "\n",
       "      Aggregate rating  Rating color Rating text Votes  \n",
       "4549               3.8        Yellow        Good   300  \n",
       "6161               0.0         White   Not rated     0  \n",
       "\n",
       "[2 rows x 21 columns]"
      ]
     },
     "execution_count": 8,
     "metadata": {},
     "output_type": "execute_result"
    }
   ],
   "source": [
    "# Sample the data to see what it looks like\n",
    "df.sample(2)"
   ]
  },
  {
   "cell_type": "code",
   "execution_count": 9,
   "id": "86656509-70f0-43c3-8251-0447d86d119c",
   "metadata": {},
   "outputs": [
    {
     "data": {
      "text/plain": [
       "Index(['Restaurant ID', 'Restaurant Name', 'Country Code', 'City', 'Address',\n",
       "       'Locality', 'Locality Verbose', 'Longitude', 'Latitude', 'Cuisines',\n",
       "       'Average Cost for two', 'Currency', 'Has Table booking',\n",
       "       'Has Online delivery', 'Is delivering now', 'Switch to order menu',\n",
       "       'Price range', 'Aggregate rating', 'Rating color', 'Rating text',\n",
       "       'Votes'],\n",
       "      dtype='object')"
      ]
     },
     "execution_count": 9,
     "metadata": {},
     "output_type": "execute_result"
    }
   ],
   "source": [
    "# Check the column names\n",
    "df.columns"
   ]
  },
  {
   "cell_type": "code",
   "execution_count": 10,
   "id": "56b5ca6c-8b66-469a-95e3-065b3e437b3e",
   "metadata": {},
   "outputs": [
    {
     "data": {
      "text/plain": [
       "Restaurant ID           0\n",
       "Restaurant Name         0\n",
       "Country Code            0\n",
       "City                    0\n",
       "Address                 0\n",
       "Locality                0\n",
       "Locality Verbose        0\n",
       "Longitude               0\n",
       "Latitude                0\n",
       "Cuisines                9\n",
       "Average Cost for two    0\n",
       "Currency                0\n",
       "Has Table booking       0\n",
       "Has Online delivery     0\n",
       "Is delivering now       0\n",
       "Switch to order menu    0\n",
       "Price range             0\n",
       "Aggregate rating        0\n",
       "Rating color            0\n",
       "Rating text             0\n",
       "Votes                   0\n",
       "dtype: int64"
      ]
     },
     "execution_count": 10,
     "metadata": {},
     "output_type": "execute_result"
    }
   ],
   "source": [
    "# Check for missing values\n",
    "df.isnull().sum()"
   ]
  },
  {
   "cell_type": "code",
   "execution_count": 39,
   "id": "bbf658bc-54cc-434a-af0f-b734af790c4d",
   "metadata": {},
   "outputs": [
    {
     "data": {
      "text/plain": [
       "np.int64(0)"
      ]
     },
     "execution_count": 39,
     "metadata": {},
     "output_type": "execute_result"
    }
   ],
   "source": [
    "# Check for the duplicates\n",
    "df.duplicated().sum()"
   ]
  },
  {
   "cell_type": "code",
   "execution_count": 11,
   "id": "2f484cde-f0b3-4781-880a-8c1c4ecd40c9",
   "metadata": {},
   "outputs": [
    {
     "name": "stdout",
     "output_type": "stream",
     "text": [
      "<class 'pandas.core.frame.DataFrame'>\n",
      "RangeIndex: 9551 entries, 0 to 9550\n",
      "Data columns (total 21 columns):\n",
      " #   Column                Non-Null Count  Dtype  \n",
      "---  ------                --------------  -----  \n",
      " 0   Restaurant ID         9551 non-null   int64  \n",
      " 1   Restaurant Name       9551 non-null   object \n",
      " 2   Country Code          9551 non-null   int64  \n",
      " 3   City                  9551 non-null   object \n",
      " 4   Address               9551 non-null   object \n",
      " 5   Locality              9551 non-null   object \n",
      " 6   Locality Verbose      9551 non-null   object \n",
      " 7   Longitude             9551 non-null   float64\n",
      " 8   Latitude              9551 non-null   float64\n",
      " 9   Cuisines              9542 non-null   object \n",
      " 10  Average Cost for two  9551 non-null   int64  \n",
      " 11  Currency              9551 non-null   object \n",
      " 12  Has Table booking     9551 non-null   object \n",
      " 13  Has Online delivery   9551 non-null   object \n",
      " 14  Is delivering now     9551 non-null   object \n",
      " 15  Switch to order menu  9551 non-null   object \n",
      " 16  Price range           9551 non-null   int64  \n",
      " 17  Aggregate rating      9551 non-null   float64\n",
      " 18  Rating color          9551 non-null   object \n",
      " 19  Rating text           9551 non-null   object \n",
      " 20  Votes                 9551 non-null   int64  \n",
      "dtypes: float64(3), int64(5), object(13)\n",
      "memory usage: 1.5+ MB\n"
     ]
    }
   ],
   "source": [
    "# Check for data types fot the columns.\n",
    "df.info()"
   ]
  },
  {
   "cell_type": "code",
   "execution_count": 12,
   "id": "115229f8-ba36-4de8-b2c8-f2f5b33fd121",
   "metadata": {},
   "outputs": [
    {
     "data": {
      "text/html": [
       "<div>\n",
       "<style scoped>\n",
       "    .dataframe tbody tr th:only-of-type {\n",
       "        vertical-align: middle;\n",
       "    }\n",
       "\n",
       "    .dataframe tbody tr th {\n",
       "        vertical-align: top;\n",
       "    }\n",
       "\n",
       "    .dataframe thead th {\n",
       "        text-align: right;\n",
       "    }\n",
       "</style>\n",
       "<table border=\"1\" class=\"dataframe\">\n",
       "  <thead>\n",
       "    <tr style=\"text-align: right;\">\n",
       "      <th></th>\n",
       "      <th>Restaurant ID</th>\n",
       "      <th>Country Code</th>\n",
       "      <th>Longitude</th>\n",
       "      <th>Latitude</th>\n",
       "      <th>Average Cost for two</th>\n",
       "      <th>Price range</th>\n",
       "      <th>Aggregate rating</th>\n",
       "      <th>Votes</th>\n",
       "    </tr>\n",
       "  </thead>\n",
       "  <tbody>\n",
       "    <tr>\n",
       "      <th>count</th>\n",
       "      <td>9.551000e+03</td>\n",
       "      <td>9551.000000</td>\n",
       "      <td>9551.000000</td>\n",
       "      <td>9551.000000</td>\n",
       "      <td>9551.000000</td>\n",
       "      <td>9551.000000</td>\n",
       "      <td>9551.000000</td>\n",
       "      <td>9551.000000</td>\n",
       "    </tr>\n",
       "    <tr>\n",
       "      <th>mean</th>\n",
       "      <td>9.051128e+06</td>\n",
       "      <td>18.365616</td>\n",
       "      <td>64.126574</td>\n",
       "      <td>25.854381</td>\n",
       "      <td>1199.210763</td>\n",
       "      <td>1.804837</td>\n",
       "      <td>2.666370</td>\n",
       "      <td>156.909748</td>\n",
       "    </tr>\n",
       "    <tr>\n",
       "      <th>std</th>\n",
       "      <td>8.791521e+06</td>\n",
       "      <td>56.750546</td>\n",
       "      <td>41.467058</td>\n",
       "      <td>11.007935</td>\n",
       "      <td>16121.183073</td>\n",
       "      <td>0.905609</td>\n",
       "      <td>1.516378</td>\n",
       "      <td>430.169145</td>\n",
       "    </tr>\n",
       "    <tr>\n",
       "      <th>min</th>\n",
       "      <td>5.300000e+01</td>\n",
       "      <td>1.000000</td>\n",
       "      <td>-157.948486</td>\n",
       "      <td>-41.330428</td>\n",
       "      <td>0.000000</td>\n",
       "      <td>1.000000</td>\n",
       "      <td>0.000000</td>\n",
       "      <td>0.000000</td>\n",
       "    </tr>\n",
       "    <tr>\n",
       "      <th>25%</th>\n",
       "      <td>3.019625e+05</td>\n",
       "      <td>1.000000</td>\n",
       "      <td>77.081343</td>\n",
       "      <td>28.478713</td>\n",
       "      <td>250.000000</td>\n",
       "      <td>1.000000</td>\n",
       "      <td>2.500000</td>\n",
       "      <td>5.000000</td>\n",
       "    </tr>\n",
       "    <tr>\n",
       "      <th>50%</th>\n",
       "      <td>6.004089e+06</td>\n",
       "      <td>1.000000</td>\n",
       "      <td>77.191964</td>\n",
       "      <td>28.570469</td>\n",
       "      <td>400.000000</td>\n",
       "      <td>2.000000</td>\n",
       "      <td>3.200000</td>\n",
       "      <td>31.000000</td>\n",
       "    </tr>\n",
       "    <tr>\n",
       "      <th>75%</th>\n",
       "      <td>1.835229e+07</td>\n",
       "      <td>1.000000</td>\n",
       "      <td>77.282006</td>\n",
       "      <td>28.642758</td>\n",
       "      <td>700.000000</td>\n",
       "      <td>2.000000</td>\n",
       "      <td>3.700000</td>\n",
       "      <td>131.000000</td>\n",
       "    </tr>\n",
       "    <tr>\n",
       "      <th>max</th>\n",
       "      <td>1.850065e+07</td>\n",
       "      <td>216.000000</td>\n",
       "      <td>174.832089</td>\n",
       "      <td>55.976980</td>\n",
       "      <td>800000.000000</td>\n",
       "      <td>4.000000</td>\n",
       "      <td>4.900000</td>\n",
       "      <td>10934.000000</td>\n",
       "    </tr>\n",
       "  </tbody>\n",
       "</table>\n",
       "</div>"
      ],
      "text/plain": [
       "       Restaurant ID  Country Code    Longitude     Latitude  \\\n",
       "count   9.551000e+03   9551.000000  9551.000000  9551.000000   \n",
       "mean    9.051128e+06     18.365616    64.126574    25.854381   \n",
       "std     8.791521e+06     56.750546    41.467058    11.007935   \n",
       "min     5.300000e+01      1.000000  -157.948486   -41.330428   \n",
       "25%     3.019625e+05      1.000000    77.081343    28.478713   \n",
       "50%     6.004089e+06      1.000000    77.191964    28.570469   \n",
       "75%     1.835229e+07      1.000000    77.282006    28.642758   \n",
       "max     1.850065e+07    216.000000   174.832089    55.976980   \n",
       "\n",
       "       Average Cost for two  Price range  Aggregate rating         Votes  \n",
       "count           9551.000000  9551.000000       9551.000000   9551.000000  \n",
       "mean            1199.210763     1.804837          2.666370    156.909748  \n",
       "std            16121.183073     0.905609          1.516378    430.169145  \n",
       "min                0.000000     1.000000          0.000000      0.000000  \n",
       "25%              250.000000     1.000000          2.500000      5.000000  \n",
       "50%              400.000000     2.000000          3.200000     31.000000  \n",
       "75%              700.000000     2.000000          3.700000    131.000000  \n",
       "max           800000.000000     4.000000          4.900000  10934.000000  "
      ]
     },
     "execution_count": 12,
     "metadata": {},
     "output_type": "execute_result"
    }
   ],
   "source": [
    "# Check the descriptive stats of the numerical part of the data.\n",
    "df.describe()"
   ]
  },
  {
   "cell_type": "code",
   "execution_count": null,
   "id": "51ca50a2-d660-4fe0-bbc1-62e475b7c8cb",
   "metadata": {},
   "outputs": [],
   "source": []
  },
  {
   "cell_type": "markdown",
   "id": "b043c43a-f503-4210-a35d-9739b3f166df",
   "metadata": {},
   "source": [
    "#### 1.2 Prepare the data for modelling"
   ]
  },
  {
   "cell_type": "code",
   "execution_count": 13,
   "id": "1938a3aa-7bbd-40d5-8620-475266213c47",
   "metadata": {},
   "outputs": [],
   "source": [
    "categorical_features = [\"City\", \"Currency\", \"Has Online delivery\", \"Has Table booking\", \"Is delivering now\", \"Switch to order menu\"]\n",
    "numeric_features = [\"Votes\", \"Longitude\", \"Latitude\", \"Average Cost for two\", \"Country Code\", \"Price range\"]\n",
    "\n",
    "\n",
    "# Perform feature selection\n",
    "X = df[categorical_features + numeric_features]\n",
    "y = df[\"Aggregate rating\"]"
   ]
  },
  {
   "cell_type": "code",
   "execution_count": null,
   "id": "ff228d45-019e-4c78-8390-cf4ecad9690b",
   "metadata": {},
   "outputs": [],
   "source": []
  },
  {
   "cell_type": "markdown",
   "id": "da4f1f8e-d8e1-46d9-ac09-77d2a69187ca",
   "metadata": {},
   "source": [
    "#### 1.3 Convert categorical variables into numerical representations."
   ]
  },
  {
   "cell_type": "code",
   "execution_count": 14,
   "id": "10392a9f-2c5e-4cec-a100-7c8983453e83",
   "metadata": {},
   "outputs": [],
   "source": [
    "# Import the needed libraries\n",
    "from sklearn.compose import ColumnTransformer\n",
    "from sklearn.preprocessing import OneHotEncoder\n",
    "from sklearn.pipeline import Pipeline"
   ]
  },
  {
   "cell_type": "code",
   "execution_count": 15,
   "id": "4fea9832-6a9a-4dc9-817f-1871498acc7f",
   "metadata": {},
   "outputs": [],
   "source": [
    "# One-hot encoding of categorical variables\n",
    "preprocessor = ColumnTransformer(\n",
    "    transformers = [\n",
    "        (\"cat\", OneHotEncoder(handle_unknown = \"ignore\"), categorical_features),\n",
    "        (\"num\", \"passthrough\", numeric_features)\n",
    "    ]\n",
    ")"
   ]
  },
  {
   "cell_type": "markdown",
   "id": "d8a299e1-1514-4071-afd3-6072c102db3a",
   "metadata": {},
   "source": [
    "#### 1.4 Setup MLflow for model tracking and comparison"
   ]
  },
  {
   "cell_type": "code",
   "execution_count": 22,
   "id": "99f675e9-e829-4d1e-883c-674ad5c55689",
   "metadata": {},
   "outputs": [
    {
     "data": {
      "text/plain": [
       "<Experiment: artifact_location='file:///C:/Users/David%20Ahonsu/Downloads/Utiva%202024/Virtual%20Internship/restuarant_rating_ml/restuarant_models/mlruns/297881625490618785', creation_time=1756588980913, experiment_id='297881625490618785', last_update_time=1756588980913, lifecycle_stage='active', name='Restaurant Ratings Prediction', tags={}>"
      ]
     },
     "execution_count": 22,
     "metadata": {},
     "output_type": "execute_result"
    }
   ],
   "source": [
    "# Set MLflow experiment name\n",
    "mlflow.set_experiment(\"Restaurant Ratings Prediction\")"
   ]
  },
  {
   "cell_type": "markdown",
   "id": "7a977ae5-7512-4f24-a6c6-b1ea0c9985c2",
   "metadata": {},
   "source": [
    "#### 1.5 Divide the dataset into training and testing subsets."
   ]
  },
  {
   "cell_type": "code",
   "execution_count": 24,
   "id": "7e7e8c0e-b99b-413f-8302-3ac01e89cfe9",
   "metadata": {},
   "outputs": [],
   "source": [
    "# Train/test split\n",
    "\n",
    "X_train, X_test, y_train, y_test = train_test_split(X, y, test_size = 0.2, random_state = 42)"
   ]
  },
  {
   "cell_type": "markdown",
   "id": "35a3efcc-8503-4c8c-90ff-254b9b6ff8a5",
   "metadata": {},
   "source": []
  },
  {
   "cell_type": "markdown",
   "id": "9062194a-1f44-4972-842e-3cef655dd8cb",
   "metadata": {},
   "source": [
    "### 2.0  Model Training and Evaluation:"
   ]
  },
  {
   "cell_type": "markdown",
   "id": "08849cf3-d8c4-4410-9fae-2947e3c7ef28",
   "metadata": {},
   "source": [
    " - Apply a regression algorithm (e.g., linear regression or decision tree regressor).\n",
    " - Assess model performance using appropriate evaluation metrics"
   ]
  },
  {
   "cell_type": "markdown",
   "id": "70c4c15e-9dad-4ef6-900d-2d1e007d12b2",
   "metadata": {},
   "source": [
    "- There are three Regression algorithms/models to be trained/run, and evaluated.\n",
    "- The algorithms/models to be trained/run are:\n",
    "  - \"Decision Tree Regressor\",\n",
    "  - \"Linear Regressor\" and\n",
    "  - \"Random Forest Regressor\".\n",
    "- The metrics of the three models will be compared.\n",
    "- The model with the best metrics will be selected as the best model."
   ]
  },
  {
   "cell_type": "markdown",
   "id": "16723ec9-9936-4700-a91d-a94434c8b8e5",
   "metadata": {},
   "source": [
    "#### 2.1 Autolog, train and evaluate the models"
   ]
  },
  {
   "cell_type": "code",
   "execution_count": 19,
   "id": "38a38a07-e261-4089-9ff4-7eb5cf42abd7",
   "metadata": {},
   "outputs": [],
   "source": [
    "# Enable MLflow autologging\n",
    "mlflow.sklearn.autolog(log_models = True)"
   ]
  },
  {
   "cell_type": "markdown",
   "id": "0347f9fe-36ea-4069-bad8-c6962b463625",
   "metadata": {},
   "source": [
    "##### 2.1.1 Train and evaluate the Decision Tree Regressor"
   ]
  },
  {
   "cell_type": "code",
   "execution_count": 25,
   "id": "ecfaf203-51d0-43d7-b472-a5a8be6059c3",
   "metadata": {},
   "outputs": [
    {
     "name": "stdout",
     "output_type": "stream",
     "text": [
      "Decision Tree Regressor model trained and logged\n",
      "Decision Tree Regressor MAE: 0.286, Decision Tree Regressor R2: 0.913\n"
     ]
    }
   ],
   "source": [
    "# Start MLflow run for the \"Decision Tree Regressor\".\n",
    "with mlflow.start_run(run_name='Decision Tree Regressor'):\n",
    "    \n",
    "    # Train the Decision Tree Regressor model.\n",
    "  \n",
    "    dt_pipeline = Pipeline(steps = [\n",
    "        (\"preprocessor\", preprocessor),\n",
    "        (\"model\", DecisionTreeRegressor(random_state = 42))\n",
    "    ])\n",
    "\n",
    "    dt_pipeline.fit(X_train, y_train)\n",
    "\n",
    "\n",
    "    # Use model for Prediction\n",
    "    dt_predictions = dt_pipeline.predict(X_test)\n",
    "\n",
    "\n",
    "    # Get the model metrics\n",
    "    mae = mean_absolute_error(y_test, dt_predictions)\n",
    "    r2 = r2_score(y_test, dt_predictions)\n",
    "\n",
    "\n",
    "    # Log metrics manually as well.\n",
    "    mlflow.log_metric(\"MAE\", mae)\n",
    "    mlflow.log_metric(\"R2\", r2)\n",
    "\n",
    "\n",
    "    print(\"Decision Tree Regressor model trained and logged\")\n",
    "    print(f\"Decision Tree Regressor MAE: {mae:.3f}, Decision Tree Regressor R2: {r2:.3f}\")"
   ]
  },
  {
   "cell_type": "markdown",
   "id": "42211a75-5ba1-4877-9345-05503f3ab691",
   "metadata": {},
   "source": [
    "##### 2.1.2 Train and evaluate the Linear Regressor"
   ]
  },
  {
   "cell_type": "code",
   "execution_count": 26,
   "id": "edaedded-878f-4b17-8b32-92a8da0e2266",
   "metadata": {},
   "outputs": [],
   "source": [
    "# Import the necessary libraries.\n",
    "import numpy as np\n",
    "from sklearn.linear_model import LinearRegression\n",
    "from sklearn.ensemble import RandomForestRegressor"
   ]
  },
  {
   "cell_type": "code",
   "execution_count": 27,
   "id": "64e5dd26-657b-4219-83ce-60dd9b0066be",
   "metadata": {},
   "outputs": [
    {
     "name": "stdout",
     "output_type": "stream",
     "text": [
      "Linear Regression Model trained and logged\n",
      "Linear Regression MAE: 1.009, Linear Regression R2: 0.343\n"
     ]
    }
   ],
   "source": [
    "# Initialise and train a Linear Regressor\n",
    "with mlflow.start_run(run_name = 'Linear Regressor'):\n",
    "    \n",
    "    # Train model   \n",
    "    lr_pipeline = Pipeline(steps = [\n",
    "        (\"preprocessor\", preprocessor),\n",
    "        (\"model\", LinearRegression())\n",
    "    ])\n",
    "\n",
    "    lr_pipeline.fit(X_train, y_train)\n",
    "\n",
    "\n",
    "    # Use model for Prediction\n",
    "    lr_predictions = lr_pipeline.predict(X_test)\n",
    "\n",
    "\n",
    "    # Get the metrics\n",
    "    lr_mae = mean_absolute_error(y_test, lr_predictions)\n",
    "    lr_r2 = r2_score(y_test, lr_predictions)\n",
    "\n",
    "\n",
    "    # Log metrics manually as well\n",
    "    mlflow.log_metric(\"MAE\", lr_mae)\n",
    "    mlflow.log_metric(\"R2\", lr_r2)\n",
    "\n",
    "\n",
    "    print(\"Linear Regression Model trained and logged\")\n",
    "    print(f\"Linear Regression MAE: {lr_mae:.3f}, Linear Regression R2: {lr_r2:.3f}\")\n"
   ]
  },
  {
   "cell_type": "markdown",
   "id": "8f1e89cc-cf18-42f6-871c-062dfb3f1f1a",
   "metadata": {},
   "source": [
    "##### 2.1.3 Train and evaluate the Random Forest Regressor"
   ]
  },
  {
   "cell_type": "code",
   "execution_count": 28,
   "id": "8ad8c4fe-738c-4f75-b836-67b5330f0db4",
   "metadata": {},
   "outputs": [
    {
     "name": "stdout",
     "output_type": "stream",
     "text": [
      "Random Forest Regression Model trained and logged\n",
      "Random Forest Regressor MAE: 0.202, Random Forest Regressor R2: 0.958\n"
     ]
    }
   ],
   "source": [
    "# Initialise and train Random Forest Regressor.\n",
    "with mlflow.start_run(run_name = 'Random Forest Regressor'):\n",
    "    \n",
    "    # Train model   \n",
    "    rf_pipeline = Pipeline(steps = [\n",
    "        (\"preprocessor\", preprocessor),\n",
    "        (\"model\", RandomForestRegressor(n_estimators = 100, random_state = 42))\n",
    "    ])\n",
    "\n",
    "    rf_pipeline.fit(X_train, y_train)\n",
    "\n",
    "\n",
    "    # Use model for Prediction\n",
    "    rf_predictions = rf_pipeline.predict(X_test)\n",
    "\n",
    "\n",
    "    # Get the metrics\n",
    "    rf_mae = mean_absolute_error(y_test, rf_predictions)\n",
    "    rf_r2 = r2_score(y_test, rf_predictions)\n",
    "\n",
    "\n",
    "    # Log metrics manually as well\n",
    "    mlflow.log_metric(\"MAE\", rf_mae)\n",
    "    mlflow.log_metric(\"R2\", rf_r2)\n",
    "\n",
    "\n",
    "    print(\"Random Forest Regression Model trained and logged\")\n",
    "    print(f\"Random Forest Regressor MAE: {rf_mae:.3f}, Random Forest Regressor R2: {rf_r2:.3f}\")\n",
    "\n"
   ]
  },
  {
   "cell_type": "markdown",
   "id": "81d3aebf-ca02-4070-9c31-4049edbd3fd8",
   "metadata": {},
   "source": [
    "##### 3.1.4 Initialise and train Hypertuned Random Forest Regressor."
   ]
  },
  {
   "cell_type": "code",
   "execution_count": 29,
   "id": "6a525e6a-1639-4131-a0fa-69b07a446477",
   "metadata": {},
   "outputs": [],
   "source": [
    "# Import the necessary libraries\n",
    "from sklearn.model_selection import GridSearchCV"
   ]
  },
  {
   "cell_type": "code",
   "execution_count": 30,
   "id": "d605ce6b-3a21-44ad-98af-6ac576094147",
   "metadata": {},
   "outputs": [
    {
     "name": "stdout",
     "output_type": "stream",
     "text": [
      "Fitting 3 folds for each of 24 candidates, totalling 72 fits\n"
     ]
    },
    {
     "name": "stderr",
     "output_type": "stream",
     "text": [
      "2025/09/20 11:21:26 INFO mlflow.sklearn.utils: Logging the 5 best runs, 19 runs will be omitted.\n",
      "2025/09/20 11:21:26 WARNING mlflow.models.model: `artifact_path` is deprecated. Please use `name` instead.\n",
      "2025/09/20 11:21:29 WARNING mlflow.models.model: Model logged without a signature and input example. Please set `input_example` parameter when logging the model to auto infer the model signature.\n"
     ]
    },
    {
     "name": "stdout",
     "output_type": "stream",
     "text": [
      "Random Forest Regressor tuned and logged\n",
      "Best Params: {'model__max_depth': 10, 'model__min_samples_leaf': 2, 'model__min_samples_split': 2, 'model__n_estimators': 200}\n",
      "Best CV R²: 0.956\n",
      "MAE: 0.200, R2: 0.959\n"
     ]
    }
   ],
   "source": [
    "pipeline = Pipeline(steps=[\n",
    "    (\"preprocessor\", preprocessor),\n",
    "    (\"model\", RandomForestRegressor(random_state=42))\n",
    "])\n",
    "\n",
    "# State the hyperparameters to be tuned\n",
    "param_grid = {\n",
    "    \"model__n_estimators\": [100, 200],\n",
    "    \"model__max_depth\": [10, 20, None],\n",
    "    \"model__min_samples_split\": [2, 5],\n",
    "    \"model__min_samples_leaf\": [1, 2]\n",
    "}\n",
    "\n",
    "\n",
    "grid_search = GridSearchCV(pipeline, param_grid, cv = 3, scoring = \"r2\", n_jobs = -1, verbose = 2)\n",
    "\n",
    "\n",
    "with mlflow.start_run(run_name = \"Hypertuned Random Forest Regressor\"):\n",
    "    grid_search.fit(X_train, y_train)\n",
    "\n",
    "\n",
    "    best_pipeline = grid_search.best_estimator_\n",
    "    y_pred = best_pipeline.predict(X_test)\n",
    "\n",
    "\n",
    "    mae = mean_absolute_error(y_test, y_pred)\n",
    "    r2 = r2_score(y_test, y_pred)\n",
    "\n",
    "\n",
    "    mlflow.log_param(\"best_params\", grid_search.best_params_)\n",
    "    mlflow.log_metric(\"Best_CV_R2\", grid_search.best_score_)\n",
    "    mlflow.log_metric(\"MAE\", mae)\n",
    "    mlflow.log_metric(\"R2\", r2)\n",
    "\n",
    "\n",
    "    mlflow.sklearn.log_model(best_pipeline, \"Best RandomForest\")\n",
    "\n",
    "\n",
    "\n",
    "    print(\"Random Forest Regressor tuned and logged\")\n",
    "    print(\"Best Params:\", grid_search.best_params_)\n",
    "    print(f\"Best CV R²: {grid_search.best_score_:.3f}\")\n",
    "    print(f\"MAE: {mae:.3f}, R2: {r2:.3f}\")\n",
    "        "
   ]
  },
  {
   "cell_type": "code",
   "execution_count": null,
   "id": "09cf4f68-5191-4458-8117-17d67045310b",
   "metadata": {},
   "outputs": [],
   "source": []
  },
  {
   "cell_type": "markdown",
   "id": "059aee31-1bf0-4e58-baaf-0eb156de1c40",
   "metadata": {},
   "source": [
    " ### 3.0 Insights and Feature Impact:\n",
    " "
   ]
  },
  {
   "cell_type": "markdown",
   "id": "9bc9f7a5-bf84-4001-a285-f5b63a4e6320",
   "metadata": {},
   "source": [
    "- Interpret the model outputs.\n",
    "- Identify and examine the most significant features influencing the rating predictions"
   ]
  },
  {
   "cell_type": "markdown",
   "id": "1dfb9a41-26df-4344-a08e-57519cc22c1e",
   "metadata": {},
   "source": [
    "#### 3.1 Models output interpretation"
   ]
  },
  {
   "cell_type": "markdown",
   "id": "90d54439-0a4f-4a4b-aa26-48faf3fbcd5a",
   "metadata": {},
   "source": [
    "#### 3.1.1 Model Accuracy & Error"
   ]
  },
  {
   "cell_type": "markdown",
   "id": "71bbadbf-3a5d-4f05-af52-8c5d4bf323d9",
   "metadata": {},
   "source": [
    "##### Mean Absolute Error(MAE) measures the average prediction error.\n",
    "\n",
    "- The tuned Random Forest Regressor has an MAE of 0.20.\n",
    "\n",
    "- This means predictions are usually within 0.2 points of the true restaurant rating.\n",
    "\n",
    "- That’s very accurate considering a 1–5 rating scale.\n",
    "\n",
    "- The Coefficient of Determination (R2) measures how much of the variance is explained.\n",
    "\n",
    "- With R2 = 0.959, the tuned Random Forest Regressor explains 96% of the variation in restaurant ratings.\n",
    "\n",
    "- This indicates the model is highly predictive and captures key patterns in the data."
   ]
  },
  {
   "cell_type": "markdown",
   "id": "8e25b11a-946e-40d5-aa64-0785aa0ae695",
   "metadata": {},
   "source": [
    "#### 3.1.2 Model Comparison"
   ]
  },
  {
   "cell_type": "markdown",
   "id": "4ab425b7-6498-4835-aff8-e715c59c609c",
   "metadata": {},
   "source": [
    "##### Linear Regression performed poorly (R2 = 0.336, MAE ≈ 1).\n",
    "\n",
    "- Suggests that restaurant ratings are not linearly related to the features.\n",
    "\n",
    "- Confirms the importance of non-linear models.\n",
    "\n",
    "  \n",
    "##### Decision Tree was decent (R2 = 0.911, MAE ≈ 0.289).\n",
    "\n",
    "- Captured important relationships, but single trees are prone to overfitting.\n",
    "\n",
    "\n",
    "##### Random Forest Regressors(default and tuned) clearly outperformed both.\n",
    "\n",
    "- Ensemble learning reduces overfitting.\n",
    "\n",
    "- Tuning improved stability and ensured generalisation across different splits of the data."
   ]
  },
  {
   "cell_type": "markdown",
   "id": "3d2697d5-50e9-4af2-9bb3-2fd7e103c7cf",
   "metadata": {},
   "source": [
    "#### 3.1.3 Practical Meaning"
   ]
  },
  {
   "cell_type": "markdown",
   "id": "c4c248e0-dcd7-4b5c-b032-290bd16bbd94",
   "metadata": {},
   "source": [
    "- The tuned Random Forest is reliable enough for practical use, for example, predicting how well a new restaurant might be rated.\n",
    "\n",
    "- It can serve as a decision-support tool for:\n",
    "\n",
    "    - Restaurant owners: to understand which factors improve ratings.\n",
    "\n",
    "    - Food platforms: to estimate ratings for new/unrated restaurants.\n",
    "\n",
    "    - Market analysts: to study patterns in consumer preferences."
   ]
  },
  {
   "cell_type": "markdown",
   "id": "550e53af-8f2b-4e02-8759-db8da7bd858a",
   "metadata": {},
   "source": [
    "#### 3.1.4 Limitations\n",
    "\n"
   ]
  },
  {
   "cell_type": "markdown",
   "id": "dc61dae5-151a-4436-a619-21ba09bfae57",
   "metadata": {},
   "source": [
    "- Ratings may depend on intangibles (service quality, trends, social media influence) that are not fully captured in the dataset.\n",
    "\n",
    "- Cross-validation (which was done in tuning) suggests the model generalises well, but testing on completely new or unseen data would be the ultimate test."
   ]
  },
  {
   "cell_type": "markdown",
   "id": "0836cfc3-502f-4bf0-8978-2419f0cdf2ec",
   "metadata": {},
   "source": [
    "#### 3.1.5 In summary:\n",
    "- The tuned Random Forest model is extremely strong. \n",
    "- It predicts restaurant ratings with high accuracy.\n",
    "- It explains almost all the variability and captures the complex, non-linear relationships that the Linear model missed."
   ]
  },
  {
   "cell_type": "code",
   "execution_count": null,
   "id": "9fc8dbb9-ac89-4294-afb2-d979f79c9977",
   "metadata": {},
   "outputs": [],
   "source": []
  },
  {
   "cell_type": "markdown",
   "id": "a115ee25-4fc5-47e4-8968-81048aac0c9b",
   "metadata": {},
   "source": [
    "#### 3.1.6 Identify and examine the most significant features influencing the rating predictions"
   ]
  },
  {
   "cell_type": "code",
   "execution_count": 31,
   "id": "dd40741f-8901-47b9-9b2b-4ef667cbbb2c",
   "metadata": {},
   "outputs": [],
   "source": [
    "%%capture\n",
    "!pip install seaborn"
   ]
  },
  {
   "cell_type": "code",
   "execution_count": 32,
   "id": "62a488ed-0066-4b30-ae24-c93c519a9c73",
   "metadata": {},
   "outputs": [],
   "source": [
    "# Import the necessary libraries\n",
    "import matplotlib.pyplot as plt\n",
    "import seaborn as sns\n"
   ]
  },
  {
   "cell_type": "code",
   "execution_count": 33,
   "id": "bebc0951-752c-49ff-8226-ef4e042d705f",
   "metadata": {},
   "outputs": [],
   "source": [
    "# Access the RandomForest model inside the pipeline\n",
    "rf_model = best_pipeline.named_steps[\"model\"]\n",
    "\n",
    "# Extract feature importances\n",
    "importances = rf_model.feature_importances_"
   ]
  },
  {
   "cell_type": "code",
   "execution_count": 34,
   "id": "dcb28894-965a-40f8-b097-5bbcb6591e78",
   "metadata": {},
   "outputs": [],
   "source": [
    "# Get categorical feature names from the one-hot encoder\n",
    "ohe = best_pipeline.named_steps[\"preprocessor\"].named_transformers_[\"cat\"]\n",
    "cat_feature_names = ohe.get_feature_names_out([\"City\", \"Currency\", \"Has Online delivery\", \"Has Table booking\", \"Is delivering now\", \"Switch to order menu\"])\n",
    "\n",
    "\n",
    "# Numeric features\n",
    "num_feature_names = [\"Votes\", \"Longitude\", \"Latitude\", \"Average Cost for two\", \"Country Code\", \"Price range\"]\n",
    "\n",
    "\n",
    "# Combine\n",
    "all_feature_names = list(cat_feature_names) + num_feature_names\n",
    "\n",
    "\n",
    "# Match importances\n",
    "feature_importances = pd.DataFrame({\n",
    "    \"Feature\": all_feature_names,\n",
    "    \"Importance\": importances\n",
    "}).sort_values(by = \"Importance\", ascending = False)"
   ]
  },
  {
   "cell_type": "code",
   "execution_count": 35,
   "id": "4585d967-b972-4886-aac3-e1b0111ccaa8",
   "metadata": {},
   "outputs": [
    {
     "name": "stdout",
     "output_type": "stream",
     "text": [
      "Top Features Driving Predictions:\n"
     ]
    },
    {
     "data": {
      "text/html": [
       "<div>\n",
       "<style scoped>\n",
       "    .dataframe tbody tr th:only-of-type {\n",
       "        vertical-align: middle;\n",
       "    }\n",
       "\n",
       "    .dataframe tbody tr th {\n",
       "        vertical-align: top;\n",
       "    }\n",
       "\n",
       "    .dataframe thead th {\n",
       "        text-align: right;\n",
       "    }\n",
       "</style>\n",
       "<table border=\"1\" class=\"dataframe\">\n",
       "  <thead>\n",
       "    <tr style=\"text-align: right;\">\n",
       "      <th></th>\n",
       "      <th>Feature</th>\n",
       "      <th>Importance</th>\n",
       "    </tr>\n",
       "  </thead>\n",
       "  <tbody>\n",
       "    <tr>\n",
       "      <th>146</th>\n",
       "      <td>Votes</td>\n",
       "      <td>0.973474</td>\n",
       "    </tr>\n",
       "    <tr>\n",
       "      <th>147</th>\n",
       "      <td>Longitude</td>\n",
       "      <td>0.010053</td>\n",
       "    </tr>\n",
       "    <tr>\n",
       "      <th>148</th>\n",
       "      <td>Latitude</td>\n",
       "      <td>0.006881</td>\n",
       "    </tr>\n",
       "    <tr>\n",
       "      <th>149</th>\n",
       "      <td>Average Cost for two</td>\n",
       "      <td>0.003487</td>\n",
       "    </tr>\n",
       "    <tr>\n",
       "      <th>150</th>\n",
       "      <td>Country Code</td>\n",
       "      <td>0.002731</td>\n",
       "    </tr>\n",
       "  </tbody>\n",
       "</table>\n",
       "</div>"
      ],
      "text/plain": [
       "                  Feature  Importance\n",
       "146                 Votes    0.973474\n",
       "147             Longitude    0.010053\n",
       "148              Latitude    0.006881\n",
       "149  Average Cost for two    0.003487\n",
       "150          Country Code    0.002731"
      ]
     },
     "execution_count": 35,
     "metadata": {},
     "output_type": "execute_result"
    }
   ],
   "source": [
    "print(\"Top Features Driving Predictions:\")\n",
    "feature_importances.head(5)"
   ]
  },
  {
   "cell_type": "code",
   "execution_count": null,
   "id": "1ea14021-b8d2-4944-8080-0a750855c3fd",
   "metadata": {},
   "outputs": [],
   "source": []
  },
  {
   "cell_type": "code",
   "execution_count": 36,
   "id": "8044fc91-92cf-41dc-87b7-7321ded56812",
   "metadata": {},
   "outputs": [
    {
     "data": {
      "image/png": "[encoded data removed]",
      "text/plain": [
       "<Figure size 1000x600 with 1 Axes>"
      ]
     },
     "metadata": {},
     "output_type": "display_data"
    }
   ],
   "source": [
    "# Plot feature importance\n",
    "plt.figure(figsize = (10, 6))\n",
    "sns.barplot(\n",
    "    x = \"Importance\",\n",
    "    y = \"Feature\",\n",
    "    data = feature_importances.head(5)\n",
    ")\n",
    "\n",
    "plt.title(\"Top Feature Importances\")\n",
    "plt.tight_layout()\n",
    "plt.show()"
   ]
  },
  {
   "cell_type": "markdown",
   "id": "00cb63bb-3d98-4a4b-b055-a7900a87e40a",
   "metadata": {},
   "source": [
    "#### Key Takeaway\n",
    "\n",
    "- Votes dominate completely, almost the only feature driving predictions with 97% importance.\n",
    "\n",
    "- Location (longitude/latitude), cost, and country are secondary factors.\n",
    "\n",
    "- Service features (online delivery, table booking) have minimal impact on ratings.\n",
    "\n",
    "\n",
    "#### In other words:\n",
    "\n",
    "- Customers’ collective voting behaviour is what drives the model’s predictions the most, with other factors playing only a minor supporting role."
   ]
  },
  {
   "cell_type": "markdown",
   "id": "4a4bab2f-e2a2-48b1-8ed3-ebe1d80732a3",
   "metadata": {},
   "source": [
    "### 4.0 Create an End Point to Test the Model"
   ]
  },
  {
   "cell_type": "code",
   "execution_count": 36,
   "id": "161b9b6c-924c-401a-93bc-a0e3b7b6b3bc",
   "metadata": {},
   "outputs": [],
   "source": [
    "# Import the necessary library\n",
    "import subprocess as sp\n",
    "import requests\n",
    "import json"
   ]
  },
  {
   "cell_type": "code",
   "execution_count": 50,
   "id": "4f639d82-5370-4fcf-b6d5-bb34c3c4f049",
   "metadata": {},
   "outputs": [
    {
     "name": "stdout",
     "output_type": "stream",
     "text": [
      "Now serving RestaurantRatingModel version 1 at http://127.0.0.1:5001/invocations\n"
     ]
    }
   ],
   "source": [
    "# Define model name and version from the MLflow registry\n",
    "model_name = \"RestaurantRatingModel\"\n",
    "model_version = 1\n",
    "\n",
    "\n",
    "# Command to serve the model\n",
    "command = [\n",
    "    \"mlflow\", \"models\", \"serve\",\n",
    "    \"-m\", f\"models:/{model_name}/{model_version}\",\n",
    "    \"-p\", \"5001\",\n",
    "    \"--no-conda\"\n",
    "]\n",
    "\n",
    "\n",
    "# Start the server\n",
    "process = sp.Popen(command)\n",
    "\n",
    "\n",
    "print(f\"Now serving {model_name} version {model_version} at http://127.0.0.1:5001/invocations\")"
   ]
  },
  {
   "cell_type": "code",
   "execution_count": 51,
   "id": "075b0329-fa72-436f-98b6-0a885bd567e6",
   "metadata": {},
   "outputs": [],
   "source": [
    "# API endpoint\n",
    "url = \"http://127.0.0.1:5001/invocations\""
   ]
  },
  {
   "cell_type": "code",
   "execution_count": 62,
   "id": "7f5ff903-fa5f-41d2-9d7b-58f957c020b3",
   "metadata": {},
   "outputs": [],
   "source": [
    "# Sample input - this must match the training schema.\n",
    "sample = pd.DataFrame([{\n",
    "    \"Votes\": 400,\n",
    "    \"Longitude\": 77.23,\n",
    "    \"Latitude\": 28.61,\n",
    "    \"Average Cost for two\": 800,\n",
    "    \"Country Code\": 1,\n",
    "    \"Price range\": 2,\n",
    "    \"City\": \"New Delhi\",\n",
    "    \"Currency\": \"Indian Rupees(Rs.)\",\n",
    "    \"Has Online delivery\": \"Yes\",\n",
    "    \"Has Table booking\": \"No\",\n",
    "    \"Is delivering now\": \"No\",\n",
    "    \"Switch to order menu\": \"No\"\n",
    "}])\n",
    "\n",
    "\n",
    "# Correct payload: wrap in dict with \"dataframe_records\"\n",
    "payload = {\"dataframe_records\": sample.to_dict(orient=\"records\")}\n",
    "\n",
    "\n",
    "headers = {\"Content-Type\": \"application/json\"}\n",
    "response = requests.post(url, headers=headers, json=payload)"
   ]
  },
  {
   "cell_type": "code",
   "execution_count": 63,
   "id": "6d72cc09-fa8e-4f65-9078-ba879af45b13",
   "metadata": {},
   "outputs": [
    {
     "name": "stdout",
     "output_type": "stream",
     "text": [
      "Status: 200\n",
      "Prediction: {'predictions': [3.7352012458205377]}\n"
     ]
    }
   ],
   "source": [
    "print(\"Status:\", response.status_code)\n",
    "print(\"Prediction:\", response.json())"
   ]
  },
  {
   "cell_type": "code",
   "execution_count": 125,
   "id": "621e6fb9-f7f1-4737-b205-94f1e30483f4",
   "metadata": {},
   "outputs": [],
   "source": [
    "process.terminate()"
   ]
  },
  {
   "cell_type": "code",
   "execution_count": null,
   "id": "9c72c479-f0a0-4af3-a873-6a886e0de76a",
   "metadata": {},
   "outputs": [],
   "source": []
  }
 ],
 "metadata": {
  "kernelspec": {
   "display_name": "Python (restuarant_models)",
   "language": "python",
   "name": "restuarant_models"
  },
  "language_info": {
   "codemirror_mode": {
    "name": "ipython",
    "version": 3
   },
   "file_extension": ".py",
   "mimetype": "text/x-python",
   "name": "python",
   "nbconvert_exporter": "python",
   "pygments_lexer": "ipython3",
   "version": "3.11.9"
  }
 },
 "nbformat": 4,
 "nbformat_minor": 5
}
